{
  "nbformat": 4,
  "nbformat_minor": 0,
  "metadata": {
    "colab": {
      "provenance": [],
      "authorship_tag": "ABX9TyP1roynuvSN7hEeNRpiL6h4",
      "include_colab_link": true
    },
    "kernelspec": {
      "name": "python3",
      "display_name": "Python 3"
    },
    "language_info": {
      "name": "python"
    }
  },
  "cells": [
    {
      "cell_type": "markdown",
      "metadata": {
        "id": "view-in-github",
        "colab_type": "text"
      },
      "source": [
        "<a href=\"https://colab.research.google.com/github/prof-salu/2025.2-LogicaProgramacao/blob/main/HelloWorld.ipynb\" target=\"_parent\"><img src=\"https://colab.research.google.com/assets/colab-badge.svg\" alt=\"Open In Colab\"/></a>"
      ]
    },
    {
      "cell_type": "code",
      "execution_count": null,
      "metadata": {
        "id": "ugXgIDtO-UNo"
      },
      "outputs": [],
      "source": [
        "print('Olá mundo python')"
      ]
    },
    {
      "cell_type": "code",
      "source": [
        "#Entrada de dados\n",
        "nome = input('Informe o seu nome: ')\n",
        "\n",
        "#Processamento de dados\n",
        "mensagem = 'Bem-vindo ' + nome + ', hoje falamos de python.'\n",
        "\n",
        "#Saída de dados\n",
        "print(mensagem)"
      ],
      "metadata": {
        "colab": {
          "base_uri": "https://localhost:8080/"
        },
        "id": "t1ZFT57lDEkn",
        "outputId": "44c4cc2f-37ca-4e8c-c978-b09aa42d4ad3"
      },
      "execution_count": 6,
      "outputs": [
        {
          "output_type": "stream",
          "name": "stdout",
          "text": [
            "Informe o seu nome: João\n",
            "Bem-vindo João, hoje falamos de python.\n"
          ]
        }
      ]
    }
  ]
}
