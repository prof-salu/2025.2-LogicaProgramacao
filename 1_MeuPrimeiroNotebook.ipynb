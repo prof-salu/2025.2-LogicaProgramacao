{
  "nbformat": 4,
  "nbformat_minor": 0,
  "metadata": {
    "colab": {
      "provenance": [],
      "authorship_tag": "ABX9TyOgLjWVzcNODGAYbz/De6TU",
      "include_colab_link": true
    },
    "kernelspec": {
      "name": "python3",
      "display_name": "Python 3"
    },
    "language_info": {
      "name": "python"
    }
  },
  "cells": [
    {
      "cell_type": "markdown",
      "metadata": {
        "id": "view-in-github",
        "colab_type": "text"
      },
      "source": [
        "<a href=\"https://colab.research.google.com/github/prof-salu/2025.2-LogicaProgramacao/blob/main/MeuPrimeiroNotebook.ipynb\" target=\"_parent\"><img src=\"https://colab.research.google.com/assets/colab-badge.svg\" alt=\"Open In Colab\"/></a>"
      ]
    },
    {
      "cell_type": "markdown",
      "source": [
        "#Meu primeiro Notebook\n",
        "Clique no botão de 'Play' a esquerda da célula abaixo para executar."
      ],
      "metadata": {
        "id": "UgZHRVltEXg7"
      }
    },
    {
      "cell_type": "code",
      "execution_count": 3,
      "metadata": {
        "colab": {
          "base_uri": "https://localhost:8080/"
        },
        "id": "JP5NjKz_EK2c",
        "outputId": "a5a108bb-1b01-4499-c917-c09427932a1e"
      },
      "outputs": [
        {
          "output_type": "stream",
          "name": "stdout",
          "text": [
            "Bem-vindo a disciplina de lógica de programação!\n"
          ]
        }
      ],
      "source": [
        "print('Bem-vindo a disciplina de lógica de programação!')"
      ]
    }
  ]
}
