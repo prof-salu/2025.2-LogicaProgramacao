{
  "nbformat": 4,
  "nbformat_minor": 0,
  "metadata": {
    "colab": {
      "provenance": [],
      "authorship_tag": "ABX9TyM8kVur1oxFpSPjlWgaU2Ni",
      "include_colab_link": true
    },
    "kernelspec": {
      "name": "python3",
      "display_name": "Python 3"
    },
    "language_info": {
      "name": "python"
    }
  },
  "cells": [
    {
      "cell_type": "markdown",
      "metadata": {
        "id": "view-in-github",
        "colab_type": "text"
      },
      "source": [
        "<a href=\"https://colab.research.google.com/github/prof-salu/2025.2-LogicaProgramacao/blob/main/1_Fundamentos_do_python.ipynb\" target=\"_parent\"><img src=\"https://colab.research.google.com/assets/colab-badge.svg\" alt=\"Open In Colab\"/></a>"
      ]
    },
    {
      "cell_type": "code",
      "execution_count": null,
      "metadata": {
        "id": "zWdPaQsuvcIV",
        "colab": {
          "base_uri": "https://localhost:8080/"
        },
        "outputId": "975a140d-2bc3-471c-b898-05ee32ec7164"
      },
      "outputs": [
        {
          "output_type": "stream",
          "name": "stdout",
          "text": [
            "Mensagem de saida em python\n"
          ]
        }
      ],
      "source": [
        "#A linha abaixo imprime uma mensagem na tela\n",
        "print('Mensagem de saida em python')"
      ]
    },
    {
      "cell_type": "code",
      "source": [
        "print(\"Outra mensagem de saida em python\")"
      ],
      "metadata": {
        "colab": {
          "base_uri": "https://localhost:8080/"
        },
        "id": "3YslUGcjyimB",
        "outputId": "0e04a8c3-f99e-4fb8-aa2e-a0b0f811a723"
      },
      "execution_count": null,
      "outputs": [
        {
          "output_type": "stream",
          "name": "stdout",
          "text": [
            "Outra mensagem de saida em python\n"
          ]
        }
      ]
    },
    {
      "cell_type": "code",
      "source": [
        "print('Cadastro da empresa XYZ')\n",
        "print('Informe o seus dados')"
      ],
      "metadata": {
        "colab": {
          "base_uri": "https://localhost:8080/"
        },
        "id": "ToL6LkrM1bKT",
        "outputId": "02343c67-d284-41cf-bf8a-3f3808357553"
      },
      "execution_count": null,
      "outputs": [
        {
          "output_type": "stream",
          "name": "stdout",
          "text": [
            "Cadastro da empresa XYZ\n",
            "Informe o seus dados: \n"
          ]
        }
      ]
    },
    {
      "cell_type": "code",
      "source": [
        "#A linha abaixo captura um dado vai teclado\n",
        "input('Informe o seu nome: ')\n",
        "input('Informe a sua idade: ')\n",
        "input('Informe o seu salario: ')"
      ],
      "metadata": {
        "id": "mulY5JCMztJI"
      },
      "execution_count": null,
      "outputs": []
    },
    {
      "cell_type": "code",
      "source": [
        "#Variaveis\n",
        "# Regras de nomenclatura\n",
        "    # Não utilizar acentos ou caracteres especias (exceção underline)\n",
        "    # Não utilizar espaços entre as palavras\n",
        "    # Não começar com números\n",
        "    # Não utilizar uma palavra reservada pela linguagem\n",
        "nome = 'Ana Carolina' #string --> ' ' ou \" \"\n",
        "idade = 32 #int\n",
        "salario = 3000.50 #float --> casa decimal é ponto (.)\n",
        "tem_cnh = True #bool --> True ou False"
      ],
      "metadata": {
        "id": "ShGgxhrm1zAS"
      },
      "execution_count": null,
      "outputs": []
    },
    {
      "cell_type": "code",
      "source": [
        "idade = 77\n",
        "print(type(idade))\n",
        "idade = '77'\n",
        "print(type(idade))\n",
        "idade = 77.0\n",
        "print(type(idade))\n",
        "idade = False\n",
        "print(type(idade))"
      ],
      "metadata": {
        "id": "vro5vJFX6q-c"
      },
      "execution_count": null,
      "outputs": []
    },
    {
      "cell_type": "code",
      "source": [
        "print('Informe os seus dados')\n",
        "nome_aluno = input('Informe o seu nome: ')\n",
        "idade_aluno = input('Informe a sua idade: ')\n",
        "matricula_aluno = input('Informe a sua matricula: ')"
      ],
      "metadata": {
        "id": "QahwGL0U8YaB"
      },
      "execution_count": null,
      "outputs": []
    },
    {
      "cell_type": "code",
      "source": [
        "#Imprimindo os dados\n",
        "print('Dados do aluno: ')\n",
        "print('Nome:', nome_aluno)\n",
        "print('Idade:', idade_aluno)\n",
        "print('Matricula:', matricula_aluno)"
      ],
      "metadata": {
        "id": "Z_RhK2Z19tZs"
      },
      "execution_count": null,
      "outputs": []
    },
    {
      "cell_type": "code",
      "source": [
        "# Criar um programa que captura as dimensões de um retangulo\n",
        "# e calcula o seu perimetro\n",
        "#casting --> conversão de dados\n",
        "altura = float(input('Informe a altura do retângulo: '))\n",
        "largura = float(input('Informe a largura do retângulo: '))\n",
        "\n",
        "\n",
        "perimetro = altura + altura + largura + largura\n",
        "print('Perimetro:', perimetro)"
      ],
      "metadata": {
        "id": "LimgXj1A_YIw"
      },
      "execution_count": null,
      "outputs": []
    },
    {
      "cell_type": "code",
      "source": [
        "#Operadores aritmeticos\n",
        "x = 10\n",
        "y = 3\n",
        "\n",
        "soma = x + y\n",
        "multiplicacao = x * y\n",
        "subtracao = x - y\n",
        "divisao_real = x / y\n",
        "divisao_inteira = x // y\n",
        "potenciacao = x ** y\n",
        "resto_divisao = x % 3"
      ],
      "metadata": {
        "id": "jOPZt4pBB8TO"
      },
      "execution_count": null,
      "outputs": []
    },
    {
      "cell_type": "code",
      "source": [
        "print('Soma:', soma)\n",
        "print('Subtração:', subtracao)\n",
        "print('Multiplicação:', multiplicacao)\n",
        "print('Divisão real:', divisao_real)\n",
        "print('Divisão inteira:', divisao_inteira)\n",
        "print('Potenciação:', potenciacao)\n",
        "print('Resta da divisão:', resto_divisao)"
      ],
      "metadata": {
        "colab": {
          "base_uri": "https://localhost:8080/"
        },
        "id": "Uv0YpKjvDz0S",
        "outputId": "1bd77584-4613-4de8-8dfc-485c9d22465c"
      },
      "execution_count": null,
      "outputs": [
        {
          "output_type": "stream",
          "name": "stdout",
          "text": [
            "Soma: 13\n",
            "Subtração: 7\n",
            "Multiplicação: 30\n",
            "Divisão real: 3.3333333333333335\n",
            "Divisão inteira: 3\n",
            "Potenciação: 1000\n",
            "Resta da divisão: 1\n"
          ]
        }
      ]
    }
  ]
}
