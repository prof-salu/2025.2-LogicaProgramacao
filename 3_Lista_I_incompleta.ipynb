{
  "nbformat": 4,
  "nbformat_minor": 0,
  "metadata": {
    "colab": {
      "provenance": [],
      "authorship_tag": "ABX9TyPrZpvoiNW9GB4Mjw0RXkk7",
      "include_colab_link": true
    },
    "kernelspec": {
      "name": "python3",
      "display_name": "Python 3"
    },
    "language_info": {
      "name": "python"
    }
  },
  "cells": [
    {
      "cell_type": "markdown",
      "metadata": {
        "id": "view-in-github",
        "colab_type": "text"
      },
      "source": [
        "<a href=\"https://colab.research.google.com/github/prof-salu/2025.2-LogicaProgramacao/blob/main/Lista_I_20252.ipynb\" target=\"_parent\"><img src=\"https://colab.research.google.com/assets/colab-badge.svg\" alt=\"Open In Colab\"/></a>"
      ]
    },
    {
      "cell_type": "code",
      "execution_count": 9,
      "metadata": {
        "colab": {
          "base_uri": "https://localhost:8080/"
        },
        "id": "_uSwqu3EytG0",
        "outputId": "6cd41aa9-8d5e-4907-e682-abc685ae9a91"
      },
      "outputs": [
        {
          "output_type": "stream",
          "name": "stdout",
          "text": [
            "Informe o seu salario: 2000\n",
            "Salario anual: R$ 24000.0\n",
            "Salario anual: R$24000.00\n",
            "Salario anual: R$24000.00\n"
          ]
        }
      ],
      "source": [
        "#entrada\n",
        "salario_mensal = float(input('Informe o seu salario: '))\n",
        "\n",
        "#processamento\n",
        "salario_anual = salario_mensal * 12\n",
        "\n",
        "#saida\n",
        "print('Salario anual: R$', salario_anual)\n",
        "print(f'Salario anual: R${salario_anual:.2f}')\n",
        "print('Salario anual: R${:.2f}'.format(salario_anual))"
      ]
    },
    {
      "cell_type": "code",
      "source": [
        "nota1 = float(input('Informe  a nota 01: '))\n",
        "nota2 = float(input('Informe  a nota 02: '))\n",
        "nota3 = float(input('Informe  a nota 03: '))\n",
        "nota4 = float(input('Informe  a nota 04: '))\n",
        "\n",
        "media = (nota1 + nota2+ nota3 + nota4)/4\n",
        "\n",
        "print('Media final:', media)"
      ],
      "metadata": {
        "id": "azqWB1b6HS1S"
      },
      "execution_count": null,
      "outputs": []
    },
    {
      "cell_type": "code",
      "source": [
        "altura = float(input('Informe a altura: '))\n",
        "largura = float(input('Informe a largura: '))\n",
        "\n",
        "perimetro = altura + altura + largura + largura\n",
        "area = altura * largura\n",
        "\n",
        "print('Perimetro:', perimetro)\n",
        "print('Area:', area)"
      ],
      "metadata": {
        "colab": {
          "base_uri": "https://localhost:8080/"
        },
        "id": "fUnT3RoUHp3J",
        "outputId": "061ffa15-d369-4db9-aaf6-21122bb1b182"
      },
      "execution_count": 12,
      "outputs": [
        {
          "output_type": "stream",
          "name": "stdout",
          "text": [
            "Informe a altura: 7\n",
            "Informe a largura: 5\n",
            "Perimetro: 24.0\n",
            "Area: 35.0\n"
          ]
        }
      ]
    },
    {
      "cell_type": "code",
      "source": [
        "numero = int(input('Informe o valor para tabuada: '))\n",
        "\n",
        "print(numero, 'X 0 =', numero * 0)\n",
        "print(numero, 'X 1 =', numero * 1)\n",
        "print(numero, 'X 2 =', numero * 2)\n",
        "print(numero, 'X 3 =', numero * 3)\n",
        "print(numero, 'X 4 =', numero * 4)\n",
        "print(numero, 'X 5 =', numero * 5)\n",
        "print(numero, 'X 6 =', numero * 6)\n",
        "print(numero, 'X 7 =', numero * 7)\n",
        "print(numero, 'X 8 =', numero * 8)\n",
        "print(numero, 'X 9 =', numero * 9)\n",
        "print(numero, 'X 10 =', numero * 10)"
      ],
      "metadata": {
        "id": "AQXZApGXIFnB"
      },
      "execution_count": null,
      "outputs": []
    },
    {
      "cell_type": "code",
      "source": [
        "#UTILIZANDO ESTRUTURAS DE REPETIÇÃO (VEREMOS MAIS A FRENTE)\n",
        "numero = int(input('Informe o valor para tabuada: '))\n",
        "\n",
        "for x in range(0, 11):\n",
        "  print(numero, 'X',x,'=',numero*x)"
      ],
      "metadata": {
        "id": "Wh24ehClImgo"
      },
      "execution_count": null,
      "outputs": []
    }
  ]
}
