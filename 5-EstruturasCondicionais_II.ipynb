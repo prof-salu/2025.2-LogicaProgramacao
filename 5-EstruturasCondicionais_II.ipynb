{
  "nbformat": 4,
  "nbformat_minor": 0,
  "metadata": {
    "colab": {
      "provenance": [],
      "authorship_tag": "ABX9TyOI0qNItTeaXnHoy+AcSeBu",
      "include_colab_link": true
    },
    "kernelspec": {
      "name": "python3",
      "display_name": "Python 3"
    },
    "language_info": {
      "name": "python"
    }
  },
  "cells": [
    {
      "cell_type": "markdown",
      "metadata": {
        "id": "view-in-github",
        "colab_type": "text"
      },
      "source": [
        "<a href=\"https://colab.research.google.com/github/prof-salu/2025.2-LogicaProgramacao/blob/main/EstruturasCondicionais_II.ipynb\" target=\"_parent\"><img src=\"https://colab.research.google.com/assets/colab-badge.svg\" alt=\"Open In Colab\"/></a>"
      ]
    },
    {
      "cell_type": "code",
      "execution_count": null,
      "metadata": {
        "id": "azCIYwFD3XRr"
      },
      "outputs": [],
      "source": [
        "#Elaborar um programa que receba um valor entre 1 e 7 e\n",
        "#informe o respectivo dia da semana (1-domingo e 7 sabado)\n",
        "dia_semana = int(input('Informe o valor [1-7]: '))\n",
        "if dia_semana == 1:\n",
        "  print('Domingo')\n",
        "elif dia_semana == 2:\n",
        "  print('Segunda-feira')\n",
        "elif dia_semana == 3:\n",
        "  print('Terça-feira')\n",
        "elif dia_semana == 4:\n",
        "  print('Quarta-feira')\n",
        "elif dia_semana == 5:\n",
        "  print('Quinta-feira')\n",
        "elif dia_semana == 6:\n",
        "  print('Sexta-feira')\n",
        "elif dia_semana == 7:\n",
        "  print('Sábado')\n",
        "else:\n",
        "  print('Valor inválido')"
      ]
    },
    {
      "cell_type": "code",
      "source": [
        "#match / case (apartir da versão 3.10) [Apenas para igualdade]\n",
        "dia_semana = int(input('Informe o valor [1-7]: '))\n",
        "match dia_semana:\n",
        "  case 1:\n",
        "    print('Domingo')\n",
        "  case 2:\n",
        "    print('Segunda-feira')\n",
        "  case 3:\n",
        "    print('Terça-feira')\n",
        "  case 4:\n",
        "    print('Quarta-feira')\n",
        "  case 5:\n",
        "    print('Quinta-feira')\n",
        "  case 6:\n",
        "    print('Sexta-feira')\n",
        "  case 7:\n",
        "    print('Sábado')\n",
        "  case _:\n",
        "    print('Valor inválido')"
      ],
      "metadata": {
        "colab": {
          "base_uri": "https://localhost:8080/"
        },
        "id": "LVk0z8Hb6Qj7",
        "outputId": "982d6829-8e93-48c0-f0cb-d0204f66f826"
      },
      "execution_count": 8,
      "outputs": [
        {
          "output_type": "stream",
          "name": "stdout",
          "text": [
            "Informe o valor [1-7]: 7\n",
            "Sábado\n"
          ]
        }
      ]
    },
    {
      "cell_type": "code",
      "source": [
        "nome = input('Informe o seu nome: ')\n",
        "\n",
        "if nome == '':\n",
        "  print('O campo nome precisa ser preenchido')\n",
        "else:\n",
        "  print('Nome preenchido com sucesso!!!')\n"
      ],
      "metadata": {
        "id": "EJGQ1oQ0-KbU"
      },
      "execution_count": null,
      "outputs": []
    },
    {
      "cell_type": "code",
      "source": [
        "#falsy: strings vazias, numero ZERO, listas vazias etc.\n",
        "#truthy: todos os outros valores preenchidos\n",
        "nome = input('Informe o seu nome: ')\n",
        "if nome:#truthy\n",
        "  print('Nome preenchido com sucesso!!!')\n",
        "else:#falsy\n",
        "  print('O campo nome precisa ser preenchido.')"
      ],
      "metadata": {
        "id": "_-1Rcz0t_ILh"
      },
      "execution_count": null,
      "outputs": []
    },
    {
      "cell_type": "code",
      "source": [
        "idade = int(input('Informe a sua idade:'))\n",
        "status = ''\n",
        "if idade >= 18:\n",
        "  status = 'Adulto'\n",
        "else:\n",
        "  status = 'Menor de idade'\n",
        "print('Status:', status)"
      ],
      "metadata": {
        "id": "qCqwxQc_AIkG"
      },
      "execution_count": null,
      "outputs": []
    },
    {
      "cell_type": "code",
      "source": [
        "#Operador ternario\n",
        "idade = int(input('Informe a sua idade:'))\n",
        "status_ternario = 'Adulto' if idade >= 18 else 'Menor de idade'\n",
        "print('Status:', status_ternario)"
      ],
      "metadata": {
        "id": "nZr2cqENAuBF"
      },
      "execution_count": null,
      "outputs": []
    }
  ]
}
