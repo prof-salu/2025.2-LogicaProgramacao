{
  "nbformat": 4,
  "nbformat_minor": 0,
  "metadata": {
    "colab": {
      "provenance": [],
      "authorship_tag": "ABX9TyP/ddLnrH5Lknmdmm28oDzQ",
      "include_colab_link": true
    },
    "kernelspec": {
      "name": "python3",
      "display_name": "Python 3"
    },
    "language_info": {
      "name": "python"
    }
  },
  "cells": [
    {
      "cell_type": "markdown",
      "metadata": {
        "id": "view-in-github",
        "colab_type": "text"
      },
      "source": [
        "<a href=\"https://colab.research.google.com/github/prof-salu/2025.2-LogicaProgramacao/blob/main/6_EstruturasRepeti%C3%A7%C3%A3o.ipynb\" target=\"_parent\"><img src=\"https://colab.research.google.com/assets/colab-badge.svg\" alt=\"Open In Colab\"/></a>"
      ]
    },
    {
      "cell_type": "code",
      "source": [
        "#Escrever na tela a mensagem oi 5 vezes\n",
        "print('oi')\n",
        "print('oi')\n",
        "print('oi')\n",
        "print('oi')\n",
        "print('oi')"
      ],
      "metadata": {
        "id": "ufUzQaWN-ZfP"
      },
      "execution_count": null,
      "outputs": []
    },
    {
      "cell_type": "code",
      "execution_count": null,
      "metadata": {
        "id": "QQ4_mjhu8bVc"
      },
      "outputs": [],
      "source": [
        "#Estrutura FOR\n",
        "# Recomendado quando precisamos repetir um trecho um\n",
        "# pré-determinado numero de vezes.\n",
        "\n",
        "#Escrever na tela a mensagem oi 5 vezes\n",
        "for x in range(5):\n",
        "  print('oi')"
      ]
    },
    {
      "cell_type": "code",
      "source": [
        "#Escreve na tela os numeros de 0 a 9\n",
        "for x in range(10):\n",
        "  print(x)"
      ],
      "metadata": {
        "id": "fw5qfCJh_z9U"
      },
      "execution_count": null,
      "outputs": []
    },
    {
      "cell_type": "code",
      "source": [
        "#Imprimir os numeros inteiros pares entre 0 e 70 (incluso)\n",
        "for x in range(71):\n",
        "  if x % 2 == 0:\n",
        "    print(x)"
      ],
      "metadata": {
        "id": "f5WwTCU3AXjH"
      },
      "execution_count": null,
      "outputs": []
    },
    {
      "cell_type": "code",
      "source": [
        "#Imprimir os numeros inteiros pares entre 30 e 150 (incluso)\n",
        "for x in range(30, 151):\n",
        "  if x % 2 == 0:\n",
        "    print(x)"
      ],
      "metadata": {
        "id": "M0MaU4GEBD5f"
      },
      "execution_count": null,
      "outputs": []
    },
    {
      "cell_type": "code",
      "source": [
        "#Capturar 5 notas de uma turma e exibir a sua media [sem for]\n",
        "n1 = float(input('Informe a nota N1: '))\n",
        "n2 = float(input('Informe a nota N2: '))\n",
        "n3 = float(input('Informe a nota N3: '))\n",
        "n4 = float(input('Informe a nota N4: '))\n",
        "n5 = float(input('Informe a nota N5: '))\n",
        "media = (n1 + n2 + n3 + n4 + n5) / 5\n",
        "print('Média:', media)"
      ],
      "metadata": {
        "id": "1QsJyc7zCCsc"
      },
      "execution_count": null,
      "outputs": []
    },
    {
      "cell_type": "code",
      "source": [
        "#Capturar 5 notas de uma turma e exibir a sua media [com for]\n",
        "somaNotas = 0\n",
        "for x in range(5):\n",
        "  nota = float(input('Informe a nota ' + str(x+1) + ': ' ))\n",
        "  somaNotas = somaNotas + nota\n",
        "media = somaNotas / 5\n",
        "print('Média:', media)"
      ],
      "metadata": {
        "id": "3NVmiH-XDAX9"
      },
      "execution_count": null,
      "outputs": []
    },
    {
      "cell_type": "code",
      "source": [
        "# Imprimir todos os numeros inteiros positivos\n",
        "# multiplos de 5 entre 100 e 150 (incluso)\n",
        "for x in range(100, 151):\n",
        "  if x % 5 == 0:\n",
        "    print(x)"
      ],
      "metadata": {
        "id": "fr4LKNIsF9HZ"
      },
      "execution_count": null,
      "outputs": []
    },
    {
      "cell_type": "code",
      "source": [
        "# Imprimir todos os numeros inteiros positivos\n",
        "# multiplos de 5 entre 100 e 150 (incluso)\n",
        "for x in range(100, 151, 5):\n",
        "  if x % 5 == 0:\n",
        "    print(x)"
      ],
      "metadata": {
        "id": "XgPLE-61HQlN"
      },
      "execution_count": null,
      "outputs": []
    },
    {
      "cell_type": "code",
      "source": [
        "#Imprimir os valores inteiros entre 130 e 200\n",
        "for x in range(130, 200):\n",
        "  print(x)"
      ],
      "metadata": {
        "id": "9Nw7aAcPH1dc"
      },
      "execution_count": null,
      "outputs": []
    },
    {
      "cell_type": "code",
      "source": [
        "#Imprimir os valores inteiros entre 130 e 200 de forma reversa\n",
        "for x in range(200, 129, -1):\n",
        "  print(x)"
      ],
      "metadata": {
        "id": "sDdU_yWOIGuj"
      },
      "execution_count": null,
      "outputs": []
    },
    {
      "cell_type": "code",
      "source": [
        "#WHILE\n",
        "# Utilizado quando não temos certeza de quantas\n",
        "# vezes o programa repetirá\n",
        "#Capturar o nome de uma pessoa, até que o valor informado seja\n",
        "#a palavra 'sair'\n",
        "nome = 'sair' #Iniciando a variavel com valor VAZIO\n",
        "while nome != 'sair':\n",
        "  nome = input('Informe o seu nome: ')"
      ],
      "metadata": {
        "id": "kGpwiTboIxYx"
      },
      "execution_count": 28,
      "outputs": []
    },
    {
      "cell_type": "code",
      "source": [
        "#Capturar o nome de uma pessoa, até que o valor informado seja\n",
        "#a palavra 'sair'\n",
        "while True:\n",
        "  nome = input('Informe o seu nome: ')\n",
        "  if nome == 'sair':\n",
        "    break #Força a parada de uma estrutura de repetição (for ou while)"
      ],
      "metadata": {
        "id": "2BHWBgwSK5Rb"
      },
      "execution_count": null,
      "outputs": []
    },
    {
      "cell_type": "code",
      "source": [
        "for x in range(10):\n",
        "  if x == 7:\n",
        "    break #Interrompe a execução da estrutura de repetição\n",
        "  print(x)\n",
        ""
      ],
      "metadata": {
        "id": "_EAA8-w8MpLY"
      },
      "execution_count": null,
      "outputs": []
    },
    {
      "cell_type": "code",
      "source": [
        "for x in range(10):\n",
        "  if x == 7:\n",
        "    continue #Ele avança para a proxima execução imediatamente\n",
        "  print(x)"
      ],
      "metadata": {
        "id": "WIzIfE70NPFV"
      },
      "execution_count": null,
      "outputs": []
    }
  ]
}