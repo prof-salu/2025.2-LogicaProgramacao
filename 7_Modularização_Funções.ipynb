{
  "nbformat": 4,
  "nbformat_minor": 0,
  "metadata": {
    "colab": {
      "provenance": [],
      "authorship_tag": "ABX9TyNQp5sbmXQnxiicVUwKX024",
      "include_colab_link": true
    },
    "kernelspec": {
      "name": "python3",
      "display_name": "Python 3"
    },
    "language_info": {
      "name": "python"
    }
  },
  "cells": [
    {
      "cell_type": "markdown",
      "metadata": {
        "id": "view-in-github",
        "colab_type": "text"
      },
      "source": [
        "<a href=\"https://colab.research.google.com/github/prof-salu/2025.2-LogicaProgramacao/blob/main/7_Modulariza%C3%A7%C3%A3o_Fun%C3%A7%C3%B5es.ipynb\" target=\"_parent\"><img src=\"https://colab.research.google.com/assets/colab-badge.svg\" alt=\"Open In Colab\"/></a>"
      ]
    },
    {
      "cell_type": "code",
      "execution_count": null,
      "metadata": {
        "id": "Z-3aQAyjFkqb"
      },
      "outputs": [],
      "source": [
        "#Função, Método, Módulo, Procedimento, etc....\n",
        "#Estruturas de programação armazenadas"
      ]
    },
    {
      "cell_type": "code",
      "source": [
        "#Estrutura de uma função\n",
        "\n",
        "#Função sem parametro [void]\n",
        "#def nome_funcao():\n",
        "  #instrução 01\n",
        "  #instrução 02\n",
        "  #instrução N\n",
        "\n",
        "#Função sem retorno [void]\n",
        "#def nome_funcao(parametro_1, parametro_2, parametro_n):\n",
        "  #instrução 01\n",
        "  #instrução 02\n",
        "  #instrução N\n",
        "\n",
        "#Função com retorno\n",
        "#def nome_funcao(parametro_1, parametro_2, parametro_n):\n",
        "  #instrução 01\n",
        "  #instrução 02\n",
        "  #instrução N\n",
        "  #return valor_retornado"
      ],
      "metadata": {
        "id": "d4vuMvl-Jmyw"
      },
      "execution_count": null,
      "outputs": []
    },
    {
      "cell_type": "code",
      "source": [
        "#Criando uma função (sem retorno)\n",
        "def imprime_saudacao(nome_usuario):\n",
        "  print('Olá, ' + nome_usuario.upper() + ', bem-vindo ao curso ABC PLUS TURBO.')"
      ],
      "metadata": {
        "id": "McNPGfZgH7UJ"
      },
      "execution_count": 13,
      "outputs": []
    },
    {
      "cell_type": "code",
      "source": [
        "#pagina inicial\n",
        "#print('Olá, ' + nome.upper() + ', bem-vindo ao curso ABC.')\n",
        "imprime_saudacao('Pedro')"
      ],
      "metadata": {
        "colab": {
          "base_uri": "https://localhost:8080/"
        },
        "id": "iJyF7p3XGmEz",
        "outputId": "b9b8ea23-4ac3-4703-f056-9692391b74cf"
      },
      "execution_count": 17,
      "outputs": [
        {
          "output_type": "stream",
          "name": "stdout",
          "text": [
            "Olá, PEDRO, bem-vindo ao curso ABC PLUS TURBO.\n"
          ]
        }
      ]
    },
    {
      "cell_type": "code",
      "source": [
        "#pagina do curso\n",
        "#print('Olá, ' + nome + ', bem-vindo ao curso ABC.')\n",
        "imprime_saudacao('Carlos')"
      ],
      "metadata": {
        "colab": {
          "base_uri": "https://localhost:8080/"
        },
        "id": "tV5b9TgqHIXJ",
        "outputId": "e80a473a-b3b9-42cd-b43b-684bf88aeee7"
      },
      "execution_count": 18,
      "outputs": [
        {
          "output_type": "stream",
          "name": "stdout",
          "text": [
            "Olá, CARLOS, bem-vindo ao curso ABC PLUS TURBO.\n"
          ]
        }
      ]
    },
    {
      "cell_type": "code",
      "source": [
        "#pagina de matricula\n",
        "#print('Olá, ' + nome + ', bem-vindo ao curso ABC.')\n",
        "imprime_saudacao('Gabriela')"
      ],
      "metadata": {
        "colab": {
          "base_uri": "https://localhost:8080/"
        },
        "id": "ZhENwsirHLLJ",
        "outputId": "c1a09254-95ae-4b7c-afaf-b1b82696b00f"
      },
      "execution_count": 19,
      "outputs": [
        {
          "output_type": "stream",
          "name": "stdout",
          "text": [
            "Olá, GABRIELA, bem-vindo ao curso ABC PLUS TURBO.\n"
          ]
        }
      ]
    },
    {
      "cell_type": "code",
      "source": [
        "#pagina de pagamento\n",
        "#print('Olá, ' + nome + ', bem-vindo ao curso ABC.')\n",
        "usuario = input('Informe o nome do usuario: ')\n",
        "imprime_saudacao(usuario)"
      ],
      "metadata": {
        "colab": {
          "base_uri": "https://localhost:8080/"
        },
        "id": "B81XNobJJVxn",
        "outputId": "393c7dbc-87f1-4fcf-a63e-e587ef009349"
      },
      "execution_count": 20,
      "outputs": [
        {
          "output_type": "stream",
          "name": "stdout",
          "text": [
            "Informe o nome do usuario: Matheus\n",
            "Olá, MATHEUS, bem-vindo ao curso ABC PLUS TURBO.\n"
          ]
        }
      ]
    },
    {
      "cell_type": "code",
      "source": [],
      "metadata": {
        "id": "EHcgEjNfSBO4"
      },
      "execution_count": null,
      "outputs": []
    },
    {
      "cell_type": "code",
      "source": [
        "#Criando uma função (com retorno)\n",
        "def soma1(x, y):\n",
        "  return x + y"
      ],
      "metadata": {
        "id": "-wWl662nKwNn"
      },
      "execution_count": 25,
      "outputs": []
    },
    {
      "cell_type": "code",
      "source": [
        "#funcao sem retorno [NONE]\n",
        "def soma2(x, y):\n",
        "  print(x + y)"
      ],
      "metadata": {
        "id": "uQDfpsUqLQG9"
      },
      "execution_count": 26,
      "outputs": []
    },
    {
      "cell_type": "code",
      "source": [
        "resultado = soma1(4, 7)\n",
        "print(resultado)"
      ],
      "metadata": {
        "colab": {
          "base_uri": "https://localhost:8080/"
        },
        "id": "4QSIFcwkLGal",
        "outputId": "7fd70447-fa10-483a-985b-0b51f9d1fca4"
      },
      "execution_count": 29,
      "outputs": [
        {
          "output_type": "stream",
          "name": "stdout",
          "text": [
            "11\n"
          ]
        }
      ]
    },
    {
      "cell_type": "code",
      "source": [
        "resultado = soma2(4, 7)\n",
        "print(resultado)"
      ],
      "metadata": {
        "colab": {
          "base_uri": "https://localhost:8080/"
        },
        "id": "w3SQas-ZLVN9",
        "outputId": "a543d445-ff4b-49cd-9f45-49dd82dd4ccb"
      },
      "execution_count": 30,
      "outputs": [
        {
          "output_type": "stream",
          "name": "stdout",
          "text": [
            "11\n",
            "None\n"
          ]
        }
      ]
    },
    {
      "cell_type": "markdown",
      "source": [
        "Calculadora em python:\n",
        "\n",
        "Crie funções para simular as operações de uma calculadora:\n",
        "\n",
        "* somar\n",
        "* dividir\n",
        "* multiplicar\n",
        "* subtrair\n",
        "* potenciação"
      ],
      "metadata": {
        "id": "bLDqIvCuMSU2"
      }
    },
    {
      "cell_type": "code",
      "source": [
        "def somar(x, y):\n",
        "  return x + y\n",
        "\n",
        "def subtrair(x, y):\n",
        "  return x - y\n",
        "\n",
        "def multiplicar(x, y):\n",
        "  return x * y\n",
        "\n",
        "def dividir(x, y):\n",
        "  return x / y\n",
        "\n",
        "def potencia(x, y):\n",
        "  return x ** y"
      ],
      "metadata": {
        "id": "yTMeY_SNSCr5"
      },
      "execution_count": 31,
      "outputs": []
    },
    {
      "cell_type": "code",
      "source": [
        "a = 7\n",
        "b = 4\n",
        "\n",
        "print('Somar:', somar(a, b))\n",
        "print('Subtrair:', subtrair(a, b))\n",
        "print('Multiplicar:', multiplicar(a, b))\n",
        "print('Divisão:', dividir(a, b))\n",
        "print('Potencia:', potencia(a, b))"
      ],
      "metadata": {
        "id": "lOZK4C_NSVsL"
      },
      "execution_count": null,
      "outputs": []
    },
    {
      "cell_type": "code",
      "source": [
        "#Exercício 1: Verificador de Maioridade\n",
        "\n",
        "def verificar_maioridade(idade):\n",
        "  if idade >= 18:\n",
        "    return True\n",
        "  else:\n",
        "    return False"
      ],
      "metadata": {
        "id": "IMDpdo1JW1NI"
      },
      "execution_count": 33,
      "outputs": []
    },
    {
      "cell_type": "code",
      "source": [
        "#Exercício 1: Verificador de Maioridade [alternativa]\n",
        "\n",
        "def verificar_maioridade_alternativo(idade):\n",
        "  return idade >= 18"
      ],
      "metadata": {
        "id": "IWBvvBPtXNuW"
      },
      "execution_count": 37,
      "outputs": []
    },
    {
      "cell_type": "code",
      "source": [
        "print(verificar_maioridade(21))"
      ],
      "metadata": {
        "colab": {
          "base_uri": "https://localhost:8080/"
        },
        "id": "RKgwcoRcXGmu",
        "outputId": "bc260f5f-eb1f-443b-8eb6-5f03f8723152"
      },
      "execution_count": 34,
      "outputs": [
        {
          "output_type": "stream",
          "name": "stdout",
          "text": [
            "True\n"
          ]
        }
      ]
    },
    {
      "cell_type": "code",
      "source": [
        "print(verificar_maioridade_alternativo(21))"
      ],
      "metadata": {
        "colab": {
          "base_uri": "https://localhost:8080/"
        },
        "id": "tRaTH04NXZdN",
        "outputId": "26543f18-dc69-4928-fbfa-1cfb3894d1ea"
      },
      "execution_count": 38,
      "outputs": [
        {
          "output_type": "stream",
          "name": "stdout",
          "text": [
            "True\n"
          ]
        }
      ]
    },
    {
      "cell_type": "code",
      "source": [
        "print(verificar_maioridade(17))"
      ],
      "metadata": {
        "colab": {
          "base_uri": "https://localhost:8080/"
        },
        "id": "kULrmsBSXK0P",
        "outputId": "f5f49ca8-3fbf-496c-cbfe-75ee6f2f828c"
      },
      "execution_count": 35,
      "outputs": [
        {
          "output_type": "stream",
          "name": "stdout",
          "text": [
            "False\n"
          ]
        }
      ]
    },
    {
      "cell_type": "code",
      "source": [
        "print(verificar_maioridade_alternativo(17))"
      ],
      "metadata": {
        "colab": {
          "base_uri": "https://localhost:8080/"
        },
        "id": "EC6tCV43XfVt",
        "outputId": "58bba385-a192-4a81-8881-b0da963b2082"
      },
      "execution_count": 39,
      "outputs": [
        {
          "output_type": "stream",
          "name": "stdout",
          "text": [
            "False\n"
          ]
        }
      ]
    },
    {
      "cell_type": "code",
      "source": [
        "#Exercício 2: Cálculo de IMC (Índice de Massa Corporal)\n",
        "def calcular_imc(altura, peso):\n",
        "  return peso / altura ** 2"
      ],
      "metadata": {
        "id": "wJKg-NY9Xktu"
      },
      "execution_count": 40,
      "outputs": []
    },
    {
      "cell_type": "code",
      "source": [
        "print('Imc:', calcular_imc(1.75, 70))"
      ],
      "metadata": {
        "colab": {
          "base_uri": "https://localhost:8080/"
        },
        "id": "7xxts6jVXxRt",
        "outputId": "acf5623e-53a3-4462-9862-eb50aca6cfe8"
      },
      "execution_count": 42,
      "outputs": [
        {
          "output_type": "stream",
          "name": "stdout",
          "text": [
            "Imc: 22.857142857142858\n"
          ]
        }
      ]
    }
  ]
}