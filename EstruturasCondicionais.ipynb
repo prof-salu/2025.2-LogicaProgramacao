{
  "nbformat": 4,
  "nbformat_minor": 0,
  "metadata": {
    "colab": {
      "provenance": [],
      "authorship_tag": "ABX9TyPoTN2+V8mHRm+LxiRQEjlT",
      "include_colab_link": true
    },
    "kernelspec": {
      "name": "python3",
      "display_name": "Python 3"
    },
    "language_info": {
      "name": "python"
    }
  },
  "cells": [
    {
      "cell_type": "markdown",
      "metadata": {
        "id": "view-in-github",
        "colab_type": "text"
      },
      "source": [
        "<a href=\"https://colab.research.google.com/github/prof-salu/2025.2-LogicaProgramacao/blob/main/EstruturasCondicionais.ipynb\" target=\"_parent\"><img src=\"https://colab.research.google.com/assets/colab-badge.svg\" alt=\"Open In Colab\"/></a>"
      ]
    },
    {
      "cell_type": "code",
      "execution_count": null,
      "metadata": {
        "id": "k-UZreIo6A7k"
      },
      "outputs": [],
      "source": [
        "#Operadores relacionais (O resultado SEMPRE sera um valor logico)\n",
        "# ==  IGUALDADE\n",
        "# !=  DIFERENTE\n",
        "# >   MAIOR QUE\n",
        "# <   MENOR QUE\n",
        "# >=  MAIOR OU IGUAL QUE\n",
        "# <=  MENOR OU IGUAL QUE\n",
        "a = 5\n",
        "b = 8\n",
        "print(a == b) #False\n",
        "print(a != b) #True\n",
        "print((5 + 7) > (15 / 3))#True"
      ]
    },
    {
      "cell_type": "code",
      "source": [
        "#Operadores logicos\n",
        "# and [E]   TRUE --> APENAS QUANDO TODAS AS CONDIÇÕES FOREM TRUE\n",
        "# or  [OU]  TRUE --> QUANDO UMA CONDIÇÃO FOR TRUE\n",
        "# not [não] INVERTE UM VALOR (TRUE --> FALSE) E (FALSE --> TRUE)\n",
        "x = 5\n",
        "y = 10\n",
        "\n",
        "print(x * 2 == y and (y / 2) < 6) #True\n",
        "print(not (y == x / 2)) #True\n",
        "print(y / 3 == 4 or y == 5 * 2 + 1 or x + 5 == y) #True"
      ],
      "metadata": {
        "id": "tRVE8dpt8JWa"
      },
      "execution_count": null,
      "outputs": []
    },
    {
      "cell_type": "code",
      "source": [
        "#Estruturas condicionais (if ==> SE)\n",
        "\n",
        "# Elabore um programa que informe a um jovem se ele precisa\n",
        "# se alistar nas forças armadas\n",
        "\n",
        "idade = int(input('Informe a sua idade: '))\n",
        "\n",
        "if idade >= 18:\n",
        "  print('Você precisa se alistar!')\n",
        "else:\n",
        "  print('Você ainda não pode se alistar...')"
      ],
      "metadata": {
        "id": "XpuJLT98-2a8"
      },
      "execution_count": null,
      "outputs": []
    },
    {
      "cell_type": "code",
      "source": [
        "# Elabore um programa para verificar se um\n",
        "# valor inteiro é par ou impar\n",
        "\n",
        "numero = int(input('Informe um numero: '))\n",
        "if numero % 2 == 0:\n",
        "  print('Numero PAR')\n",
        "else:\n",
        "  print('Numero IMPAR')"
      ],
      "metadata": {
        "id": "B1Ugx4PTBcV5"
      },
      "execution_count": null,
      "outputs": []
    },
    {
      "cell_type": "code",
      "source": [
        "numero = int(input('Informe um numero: ')) #8\n",
        "if numero % 2 == 0:\n",
        "  print('Numero PAR')\n",
        "if numero % 2 != 0:\n",
        "  print('Numero IMPAR')"
      ],
      "metadata": {
        "id": "Z9aL6TsJDp1k"
      },
      "execution_count": null,
      "outputs": []
    },
    {
      "cell_type": "code",
      "source": [
        "numero = int(input('Informe um numero: '))\n",
        "\n",
        "if numero > 10:\n",
        "  print('Valor maior que 10')\n",
        "\n",
        "if numero % 2 == 0:\n",
        "  print('Numero par')\n",
        "\n",
        "if numero % 5 == 0:\n",
        "  print('Multiplo de 5')"
      ],
      "metadata": {
        "id": "W61WGIIoEOe7"
      },
      "execution_count": null,
      "outputs": []
    },
    {
      "cell_type": "code",
      "source": [
        "#Regra para aposentadoria\n",
        "# idade >= 65 E contribuicao >= 35\n",
        "idade = int(input('Informe a sua idade: '))\n",
        "contribuicao = int(input('Informe o tempo de contribuição: '))\n",
        "\n",
        "if idade >= 65 and contribuicao >= 35:\n",
        "  print('Parabens! Você já pode solicitar sua aposentadoria.')\n",
        "  print('Procure uma agencia do INSS.')\n",
        "else:\n",
        "  falta_idade = 65 - idade\n",
        "  falta_contribuicao = 35 - contribuicao\n",
        "  print('Ainda faltam alguns anos ...')\n",
        "  print('Faltam', falta_idade, 'anos de idade')\n",
        "  print('Faltam', falta_contribuicao, 'de contribuição')"
      ],
      "metadata": {
        "id": "k0xy-BU5EtjC"
      },
      "execution_count": null,
      "outputs": []
    },
    {
      "cell_type": "code",
      "source": [
        "# transformar um nota de um aluno para o GRAU equivalente\n",
        "#A >= 90\n",
        "#B >= 80\n",
        "#C >= 70\n",
        "#D >= 60\n",
        "#E >= 50\n",
        "#F <  50\n",
        "\n",
        "nota = int(input('Informe a nota de 0 a 100: '))\n",
        "\n",
        "if nota >= 90:\n",
        "  print('Conceito A')\n",
        "elif nota >= 80:\n",
        "  print('Conceito B')\n",
        "elif nota >= 70:\n",
        "  print('Conceito C')\n",
        "elif nota >= 60:\n",
        "  print('Conceito D')\n",
        "elif nota >= 50:\n",
        "  print('Conceito E')\n",
        "else:\n",
        "  print('Conceito F')"
      ],
      "metadata": {
        "id": "tzAQbT5XJHtS"
      },
      "execution_count": null,
      "outputs": []
    },
    {
      "cell_type": "code",
      "source": [
        "# Capturar a idade de uma pessoa e verificar se\n",
        "# esta apto a votar, onde:\n",
        "#  < 16     nao pode votar\n",
        "# >= 18     voto obrigatorio\n",
        "# >= 65     voto opcional\n",
        "#  16 e 17  voto opcional\n",
        "idade = int(input('Informe a sua idade: '))\n",
        "\n",
        "if idade == 16 or idade == 17 or idade >= 65:\n",
        "  print('Voto opcional')\n",
        "elif idade >= 18 and idade < 65:\n",
        "  print('Voto obrigatorio')\n",
        "else:\n",
        "  print('Nao pode votar')"
      ],
      "metadata": {
        "colab": {
          "base_uri": "https://localhost:8080/"
        },
        "id": "VzDcFG4BLJVX",
        "outputId": "01c9d5a1-da1e-474e-c085-22655de9571d"
      },
      "execution_count": 36,
      "outputs": [
        {
          "output_type": "stream",
          "name": "stdout",
          "text": [
            "Informe a sua idade: 300\n",
            "Voto opcional\n"
          ]
        }
      ]
    },
    {
      "cell_type": "markdown",
      "source": [],
      "metadata": {
        "id": "wgh_s0RnM0Gr"
      }
    }
  ]
}