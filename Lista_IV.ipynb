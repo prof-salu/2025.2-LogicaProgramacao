{
  "nbformat": 4,
  "nbformat_minor": 0,
  "metadata": {
    "colab": {
      "provenance": [],
      "authorship_tag": "ABX9TyOHBZ82NRywUtl10VdvGOg6",
      "include_colab_link": true
    },
    "kernelspec": {
      "name": "python3",
      "display_name": "Python 3"
    },
    "language_info": {
      "name": "python"
    }
  },
  "cells": [
    {
      "cell_type": "markdown",
      "metadata": {
        "id": "view-in-github",
        "colab_type": "text"
      },
      "source": [
        "<a href=\"https://colab.research.google.com/github/prof-salu/2025.2-LogicaProgramacao/blob/main/Lista_IV.ipynb\" target=\"_parent\"><img src=\"https://colab.research.google.com/assets/colab-badge.svg\" alt=\"Open In Colab\"/></a>"
      ]
    },
    {
      "cell_type": "markdown",
      "source": [
        "# **Exercício 1: Verificador de Maioridade**\n",
        "\n",
        "\n",
        "Escreva uma função chamada verificar_maioridade que receba um argumento numérico chamado idade. A função deve retornar o valor booleano True se a idade for 18 ou mais, e False caso contrário.\n"
      ],
      "metadata": {
        "id": "lxpFGfvYIRh5"
      }
    },
    {
      "cell_type": "code",
      "execution_count": 1,
      "metadata": {
        "colab": {
          "base_uri": "https://localhost:8080/"
        },
        "id": "s_L_-K2DIMlI",
        "outputId": "fff5eae8-b923-46b8-fe2b-d909873d04e0"
      },
      "outputs": [
        {
          "output_type": "stream",
          "name": "stdout",
          "text": [
            "False\n",
            "True\n",
            "False\n"
          ]
        }
      ],
      "source": [
        "def verificar_maioridade(idade):\n",
        "  if idade >= 18:\n",
        "    return True\n",
        "  else:\n",
        "    return False\n",
        "\n",
        "print(verificar_maioridade(12))#False\n",
        "print(verificar_maioridade(23))#True\n",
        "print(verificar_maioridade(17))#False"
      ]
    },
    {
      "cell_type": "markdown",
      "source": [
        "#**Exercício 2: Cálculo de IMC (Índice de Massa Corporal)**\n",
        "\n",
        "\n",
        "Escreva uma função chamada calcular_imc que receba dois argumentos: peso (em kg) e altura (em metros). A função deve calcular e retornar o IMC usando a fórmula:\n",
        "IMC = peso / altura * altura.\n"
      ],
      "metadata": {
        "id": "nljNgW5YIVnH"
      }
    },
    {
      "cell_type": "code",
      "source": [
        "def calcular_imc(peso, altura):\n",
        "  imc = peso / (altura * altura)\n",
        "  return imc\n",
        "\n",
        "print('IMC:', calcular_imc(70, 1.75))\n",
        "\n",
        "# Regra de arredondamento do ultimo digito\n",
        "#0-4 mantem o valor\n",
        "#5-9 arredonda para cima\n",
        "\n",
        "print(f'IMC: {calcular_imc(70, 1.75):.3f}')\n",
        "print('IMC: {:.3f}'.format(calcular_imc(70, 1.75)))"
      ],
      "metadata": {
        "colab": {
          "base_uri": "https://localhost:8080/"
        },
        "id": "SP--WhgeIWCX",
        "outputId": "f3ab74f1-f30e-4ce9-d50f-264117eb8b8c"
      },
      "execution_count": 25,
      "outputs": [
        {
          "output_type": "stream",
          "name": "stdout",
          "text": [
            "IMC: 22.857142857142858\n",
            "IMC: 22.857\n",
            "IMC: 22.857\n"
          ]
        }
      ]
    },
    {
      "cell_type": "markdown",
      "source": [
        "#**Exercício 3: Conversor de Temperatura**\n",
        "\n",
        "\n",
        "Escreva uma função chamada celsius_para_fahrenheit que receba uma temperatura em graus Celsius como argumento. A função deve calcular e retornar a temperatura equivalente em graus Fahrenheit. A fórmula de conversão é: Fahrenheit = (Celsius * 9/5 ) + 32.\n"
      ],
      "metadata": {
        "id": "Knwg9PutIZqQ"
      }
    },
    {
      "cell_type": "code",
      "source": [
        "def celsius_para_fahrenheit(temperatura):\n",
        "  fahrenheit = (temperatura * 9 / 5) + 32\n",
        "  return fahrenheit\n",
        "\n",
        "print(celsius_para_fahrenheit(30))\n",
        "print(celsius_para_fahrenheit(100))"
      ],
      "metadata": {
        "colab": {
          "base_uri": "https://localhost:8080/"
        },
        "id": "lrJZ-xTAIZzJ",
        "outputId": "90fc0235-1ebf-4cab-f9e7-fc4a348abcbe"
      },
      "execution_count": 27,
      "outputs": [
        {
          "output_type": "stream",
          "name": "stdout",
          "text": [
            "86.0\n",
            "212.0\n"
          ]
        }
      ]
    },
    {
      "cell_type": "markdown",
      "source": [
        "#**Exercício 4: Cálculo de Preço com Desconto (Parâmetro Opcional)**\n",
        "\n",
        "\n",
        "Escreva uma função chamada calcular_preco_final que receba dois argumentos: preco_original e percentual_desconto. O percentual_desconto deve ser um parâmetro opcional com um valor padrão de 10 (representando 10%). A função deve calcular e retornar o preço final após aplicar o desconto.\n"
      ],
      "metadata": {
        "id": "c7xyTOrFIft3"
      }
    },
    {
      "cell_type": "code",
      "source": [
        "def calcular_preco_final(preco, desconto=10):\n",
        "  preco_final = preco - (preco * (desconto / 100))\n",
        "  return preco_final\n",
        "\n",
        "print(calcular_preco_final(100))\n",
        "print(calcular_preco_final(100, 15))\n",
        "print(calcular_preco_final(100, 5))\n",
        "#produto valor 50 desconto de 20% (argumentos nomeados)\n",
        "print(calcular_preco_final(desconto=20, preco=50))"
      ],
      "metadata": {
        "id": "n6ewghCSIf1X"
      },
      "execution_count": null,
      "outputs": []
    },
    {
      "cell_type": "markdown",
      "source": [
        "#**Exercício 5: Verificador de Número Primo**\n",
        "\n",
        "\n",
        "Escreva uma função chamada eh_primo que receba um número inteiro positivo como argumento. A função deve retornar True se o número for primo e False caso contrário. (Um número primo é aquele que só é divisível por 1 e por ele mesmo. Lembre-se que 0 e 1 não são primos).\n"
      ],
      "metadata": {
        "id": "XK55Zc71Ijjf"
      }
    },
    {
      "cell_type": "code",
      "source": [
        "def eh_primo(numero):\n",
        "  if numero <= 1:\n",
        "    return False\n",
        "\n",
        "  for x in range(2, numero):\n",
        "    #print(numero % x)#exibe o resultado das divisões\n",
        "    if numero % x == 0:\n",
        "      return False\n",
        "  return True\n",
        "\n",
        "print(eh_primo(11))\n",
        "print(eh_primo(4))"
      ],
      "metadata": {
        "id": "d80HZCb_Ijqx"
      },
      "execution_count": null,
      "outputs": []
    }
  ]
}